{
 "cells": [
  {
   "cell_type": "code",
   "execution_count": 21,
   "id": "shared-couple",
   "metadata": {},
   "outputs": [
    {
     "name": "stdout",
     "output_type": "stream",
     "text": [
      "홍길동 Hello\n",
      "홍길동 19\n",
      "김유신 Hello\n",
      "김유신 39\n"
     ]
    }
   ],
   "source": [
    "# Define class\n",
    "\n",
    "class Person:  #class 클래스이름\n",
    "    # 속성리스트\n",
    "    def __init__(self) :     #init 메서드 방법\n",
    "        self.name =\" \"\n",
    "        self.age = 0\n",
    "    \n",
    "    #메서드\n",
    "    def greeting(self): # self는 특수한 키워드 임\n",
    "        print(self.name, 'Hello')\n",
    "        \n",
    "    def showInfo(self):\n",
    "        print(self.name, self.age)     \n",
    "        \n",
    "hong = Person()     # 객체변수 = 클래스생성자()  _hong : 객체 ... 인스턴스화 한다\n",
    "Kim = Person()\n",
    "hong.name = \"홍길동\"\n",
    "hong.age = 19\n",
    "hong.greeting()\n",
    "hong.showInfo()\n",
    "\n",
    "Kim.name =\"김유신\"\n",
    "Kim.age =39\n",
    "Kim.greeting()\n",
    "Kim.showInfo()\n",
    "\n",
    "        "
   ]
  },
  {
   "cell_type": "raw",
   "id": "crucial-causing",
   "metadata": {},
   "source": [
    "\n",
    "\n"
   ]
  },
  {
   "cell_type": "code",
   "execution_count": 22,
   "id": "verbal-reset",
   "metadata": {},
   "outputs": [],
   "source": [
    "class Car :\n",
    "    def __init__(self) :\n",
    "        self.color =\"\"\n",
    "        self.speed = 0\n",
    "        \n",
    "    def upSpeed(self, number) :\n",
    "        self.speed = self.speed + number\n",
    "    def downSpeed(self,number) :\n",
    "        self.speed -= number\n",
    "    def showInfo(self):\n",
    "        print(self.color, self.speed)   \n",
    "    "
   ]
  },
  {
   "cell_type": "code",
   "execution_count": 25,
   "id": "general-child",
   "metadata": {},
   "outputs": [],
   "source": [
    "redCar = Car()\n",
    "redCar.color = 'red'\n",
    "redCar.speed = 0"
   ]
  },
  {
   "cell_type": "code",
   "execution_count": 26,
   "id": "funded-characteristic",
   "metadata": {},
   "outputs": [
    {
     "ename": "AttributeError",
     "evalue": "'Car' object has no attribute 'showInfo'",
     "output_type": "error",
     "traceback": [
      "\u001b[1;31m---------------------------------------------------------------------------\u001b[0m",
      "\u001b[1;31mAttributeError\u001b[0m                            Traceback (most recent call last)",
      "\u001b[1;32m<ipython-input-26-81ddc25ba72b>\u001b[0m in \u001b[0;36m<module>\u001b[1;34m\u001b[0m\n\u001b[1;32m----> 1\u001b[1;33m \u001b[0mredCar\u001b[0m\u001b[1;33m.\u001b[0m\u001b[0mshowInfo\u001b[0m\u001b[1;33m(\u001b[0m\u001b[1;33m)\u001b[0m\u001b[1;33m\u001b[0m\u001b[1;33m\u001b[0m\u001b[0m\n\u001b[0m",
      "\u001b[1;31mAttributeError\u001b[0m: 'Car' object has no attribute 'showInfo'"
     ]
    }
   ],
   "source": [
    "redCar.showInfo()"
   ]
  },
  {
   "cell_type": "code",
   "execution_count": 27,
   "id": "exempt-secret",
   "metadata": {},
   "outputs": [],
   "source": [
    "redCar.downSpeed(120)"
   ]
  },
  {
   "cell_type": "code",
   "execution_count": null,
   "id": "physical-anaheim",
   "metadata": {},
   "outputs": [],
   "source": []
  },
  {
   "cell_type": "code",
   "execution_count": 34,
   "id": "everyday-estimate",
   "metadata": {},
   "outputs": [],
   "source": [
    "class Car :\n",
    "    def __init__(self, color='흰색', speed=0) :\n",
    "        self.color =\" \"\n",
    "        self.speed = 0\n",
    "        \n",
    "    def upSpeed(self, number) :\n",
    "        self.speed = self.speed + number\n",
    "    def downSpeed(self,number) :\n",
    "        self.speed -= number\n",
    "    def showInfo(self):\n",
    "        print(self.color, self.speed)  "
   ]
  },
  {
   "cell_type": "code",
   "execution_count": 32,
   "id": "speaking-expense",
   "metadata": {},
   "outputs": [
    {
     "name": "stdout",
     "output_type": "stream",
     "text": [
      " 0\n"
     ]
    },
    {
     "data": {
      "text/plain": [
       "True"
      ]
     },
     "execution_count": 32,
     "metadata": {},
     "output_type": "execute_result"
    }
   ],
   "source": [
    "car1 = Car()\n",
    "car1.showInfo()\n",
    "isinstance(car1, Car)"
   ]
  },
  {
   "cell_type": "code",
   "execution_count": 42,
   "id": "informative-arizona",
   "metadata": {},
   "outputs": [],
   "source": [
    "class Person:\n",
    "    def __init__(self, name, age, address, wallet):\n",
    "        self.name = name\n",
    "        self.age = age\n",
    "        self.address = address\n",
    "        self.__wallet = wallet #비공개 속성\n",
    "        \n",
    "hong = Person(\"홍길동\", 19, \"청주시 상당구\", 10000)"
   ]
  },
  {
   "cell_type": "code",
   "execution_count": 43,
   "id": "delayed-injury",
   "metadata": {},
   "outputs": [
    {
     "ename": "AttributeError",
     "evalue": "type object 'Person' has no attribute 'showInfo'",
     "output_type": "error",
     "traceback": [
      "\u001b[1;31m---------------------------------------------------------------------------\u001b[0m",
      "\u001b[1;31mAttributeError\u001b[0m                            Traceback (most recent call last)",
      "\u001b[1;32m<ipython-input-43-4c63ef9874aa>\u001b[0m in \u001b[0;36m<module>\u001b[1;34m\u001b[0m\n\u001b[1;32m----> 1\u001b[1;33m \u001b[0mPerson\u001b[0m\u001b[1;33m.\u001b[0m\u001b[0mshowInfo\u001b[0m\u001b[1;33m(\u001b[0m\u001b[1;33m)\u001b[0m\u001b[1;33m\u001b[0m\u001b[1;33m\u001b[0m\u001b[0m\n\u001b[0m",
      "\u001b[1;31mAttributeError\u001b[0m: type object 'Person' has no attribute 'showInfo'"
     ]
    }
   ],
   "source": [
    "Person.showInfo()"
   ]
  },
  {
   "cell_type": "code",
   "execution_count": 44,
   "id": "aging-synthetic",
   "metadata": {},
   "outputs": [
    {
     "ename": "AttributeError",
     "evalue": "'Person' object has no attribute 'showWallet'",
     "output_type": "error",
     "traceback": [
      "\u001b[1;31m---------------------------------------------------------------------------\u001b[0m",
      "\u001b[1;31mAttributeError\u001b[0m                            Traceback (most recent call last)",
      "\u001b[1;32m<ipython-input-44-4dac11a72a97>\u001b[0m in \u001b[0;36m<module>\u001b[1;34m\u001b[0m\n\u001b[1;32m----> 1\u001b[1;33m \u001b[0mhong\u001b[0m\u001b[1;33m.\u001b[0m\u001b[0mshowWallet\u001b[0m\u001b[1;33m(\u001b[0m\u001b[1;33m)\u001b[0m\u001b[1;33m\u001b[0m\u001b[1;33m\u001b[0m\u001b[0m\n\u001b[0m",
      "\u001b[1;31mAttributeError\u001b[0m: 'Person' object has no attribute 'showWallet'"
     ]
    }
   ],
   "source": [
    "hong.showWallet()"
   ]
  },
  {
   "cell_type": "code",
   "execution_count": 48,
   "id": "generous-things",
   "metadata": {},
   "outputs": [],
   "source": [
    "# class 클래스명 :\n",
    "    #속성리스트\n",
    "    \n",
    "class Person:\n",
    "    bag = []\n",
    "    def put_bag(self, item):\n",
    "        self.bag.append(item)       "
   ]
  },
  {
   "cell_type": "code",
   "execution_count": 49,
   "id": "played-assumption",
   "metadata": {},
   "outputs": [],
   "source": [
    "james = Person()\n",
    "james.put_bag(\"책\")\n",
    "maria = Person()\n",
    "maria.put_bag(\"열쇠\")"
   ]
  },
  {
   "cell_type": "code",
   "execution_count": 50,
   "id": "interesting-performer",
   "metadata": {},
   "outputs": [],
   "source": [
    "james.put_bag(\"노트북\")"
   ]
  },
  {
   "cell_type": "code",
   "execution_count": 51,
   "id": "statistical-wages",
   "metadata": {},
   "outputs": [
    {
     "name": "stdout",
     "output_type": "stream",
     "text": [
      "['책', '열쇠', '노트북']\n"
     ]
    }
   ],
   "source": [
    "print(james.bag)"
   ]
  },
  {
   "cell_type": "code",
   "execution_count": 53,
   "id": "printable-world",
   "metadata": {},
   "outputs": [
    {
     "name": "stdout",
     "output_type": "stream",
     "text": [
      "['책', '열쇠', '노트북']\n"
     ]
    }
   ],
   "source": [
    "print(maria.bag)"
   ]
  },
  {
   "cell_type": "code",
   "execution_count": 54,
   "id": "interracial-adobe",
   "metadata": {},
   "outputs": [],
   "source": [
    "class Person:\n",
    "    bag = []\n",
    "    def __init__(self):\n",
    "        self.bag.append(item)\n",
    "        \n",
    "    def put_bag(self, item):\n",
    "        self.bag.append(item)    \n",
    "        "
   ]
  },
  {
   "cell_type": "code",
   "execution_count": 55,
   "id": "crazy-publisher",
   "metadata": {},
   "outputs": [
    {
     "ename": "NameError",
     "evalue": "name 'item' is not defined",
     "output_type": "error",
     "traceback": [
      "\u001b[1;31m---------------------------------------------------------------------------\u001b[0m",
      "\u001b[1;31mNameError\u001b[0m                                 Traceback (most recent call last)",
      "\u001b[1;32m<ipython-input-55-11dc0d990522>\u001b[0m in \u001b[0;36m<module>\u001b[1;34m\u001b[0m\n\u001b[1;32m----> 1\u001b[1;33m \u001b[0mjames\u001b[0m \u001b[1;33m=\u001b[0m \u001b[0mPerson\u001b[0m\u001b[1;33m(\u001b[0m\u001b[1;33m)\u001b[0m\u001b[1;33m\u001b[0m\u001b[1;33m\u001b[0m\u001b[0m\n\u001b[0m\u001b[0;32m      2\u001b[0m \u001b[0mjames\u001b[0m\u001b[1;33m.\u001b[0m\u001b[0mput_bag\u001b[0m\u001b[1;33m(\u001b[0m\u001b[1;34m\"책\"\u001b[0m\u001b[1;33m)\u001b[0m\u001b[1;33m\u001b[0m\u001b[1;33m\u001b[0m\u001b[0m\n\u001b[0;32m      3\u001b[0m \u001b[0mmaria\u001b[0m \u001b[1;33m=\u001b[0m \u001b[0mPerson\u001b[0m\u001b[1;33m(\u001b[0m\u001b[1;33m)\u001b[0m\u001b[1;33m\u001b[0m\u001b[1;33m\u001b[0m\u001b[0m\n\u001b[0;32m      4\u001b[0m \u001b[0mmaria\u001b[0m\u001b[1;33m.\u001b[0m\u001b[0mput_bag\u001b[0m\u001b[1;33m(\u001b[0m\u001b[1;34m\"열쇠\"\u001b[0m\u001b[1;33m)\u001b[0m\u001b[1;33m\u001b[0m\u001b[1;33m\u001b[0m\u001b[0m\n",
      "\u001b[1;32m<ipython-input-54-5e0c15d164e7>\u001b[0m in \u001b[0;36m__init__\u001b[1;34m(self)\u001b[0m\n\u001b[0;32m      2\u001b[0m     \u001b[0mbag\u001b[0m \u001b[1;33m=\u001b[0m \u001b[1;33m[\u001b[0m\u001b[1;33m]\u001b[0m\u001b[1;33m\u001b[0m\u001b[1;33m\u001b[0m\u001b[0m\n\u001b[0;32m      3\u001b[0m     \u001b[1;32mdef\u001b[0m \u001b[0m__init__\u001b[0m\u001b[1;33m(\u001b[0m\u001b[0mself\u001b[0m\u001b[1;33m)\u001b[0m\u001b[1;33m:\u001b[0m\u001b[1;33m\u001b[0m\u001b[1;33m\u001b[0m\u001b[0m\n\u001b[1;32m----> 4\u001b[1;33m         \u001b[0mself\u001b[0m\u001b[1;33m.\u001b[0m\u001b[0mbag\u001b[0m\u001b[1;33m.\u001b[0m\u001b[0mappend\u001b[0m\u001b[1;33m(\u001b[0m\u001b[0mitem\u001b[0m\u001b[1;33m)\u001b[0m\u001b[1;33m\u001b[0m\u001b[1;33m\u001b[0m\u001b[0m\n\u001b[0m\u001b[0;32m      5\u001b[0m \u001b[1;33m\u001b[0m\u001b[0m\n\u001b[0;32m      6\u001b[0m     \u001b[1;32mdef\u001b[0m \u001b[0mput_bag\u001b[0m\u001b[1;33m(\u001b[0m\u001b[0mself\u001b[0m\u001b[1;33m,\u001b[0m \u001b[0mitem\u001b[0m\u001b[1;33m)\u001b[0m\u001b[1;33m:\u001b[0m\u001b[1;33m\u001b[0m\u001b[1;33m\u001b[0m\u001b[0m\n",
      "\u001b[1;31mNameError\u001b[0m: name 'item' is not defined"
     ]
    }
   ],
   "source": [
    "james = Person()\n",
    "james.put_bag(\"책\")\n",
    "maria = Person()\n",
    "maria.put_bag(\"열쇠\")"
   ]
  },
  {
   "cell_type": "code",
   "execution_count": 59,
   "id": "studied-prototype",
   "metadata": {},
   "outputs": [],
   "source": [
    "class Person:\n",
    "    count = 0\n",
    "    def __init__(self):\n",
    "        Person.count += 1\n",
    "    @classmethod\n",
    "    def print_count(cls):\n",
    "        print(\"{0}명이 생성되었습니다.\".format(cls.count))"
   ]
  },
  {
   "cell_type": "code",
   "execution_count": 63,
   "id": "laden-boston",
   "metadata": {},
   "outputs": [],
   "source": [
    "james = Person()"
   ]
  },
  {
   "cell_type": "code",
   "execution_count": 64,
   "id": "normal-puppy",
   "metadata": {},
   "outputs": [
    {
     "name": "stdout",
     "output_type": "stream",
     "text": [
      "2명이 생성되었습니다.\n"
     ]
    }
   ],
   "source": [
    "Person.print_count()"
   ]
  },
  {
   "cell_type": "code",
   "execution_count": null,
   "id": "atmospheric-comparison",
   "metadata": {},
   "outputs": [],
   "source": []
  },
  {
   "cell_type": "code",
   "execution_count": null,
   "id": "periodic-baseline",
   "metadata": {},
   "outputs": [],
   "source": []
  }
 ],
 "metadata": {
  "kernelspec": {
   "display_name": "Python 3",
   "language": "python",
   "name": "python3"
  },
  "language_info": {
   "codemirror_mode": {
    "name": "ipython",
    "version": 3
   },
   "file_extension": ".py",
   "mimetype": "text/x-python",
   "name": "python",
   "nbconvert_exporter": "python",
   "pygments_lexer": "ipython3",
   "version": "3.9.2"
  }
 },
 "nbformat": 4,
 "nbformat_minor": 5
}
