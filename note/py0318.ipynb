{
 "cells": [
  {
   "cell_type": "markdown",
   "id": "aware-luther",
   "metadata": {},
   "source": [
    "# Function 의 정의 \n",
    "\n",
    "특정한 기능을 수행하는 연관된 코드들의 집합\n",
    "\n",
    "## 함수의 정의 구문\n",
    "''' python \n",
    "def functionName(parameters) :\n",
    "    statements\n",
    "    ....\n",
    "    return value\n",
    "'''\n",
    "\n",
    "### 함수 Function위 사용(호출call)\n",
    "...\n",
    "functionName(parameters) #리턴값이 없을 때, 단순한 삼수 호출\n",
    "variales = functionName(parameters) # 리턴값이 있을 때, 함수로 부터 값을 받아서 변수에 대입\n",
    "\n",
    "...."
   ]
  },
  {
   "cell_type": "code",
   "execution_count": 2,
   "id": "binding-dubai",
   "metadata": {},
   "outputs": [],
   "source": [
    "def greet(name):\n",
    "    print(\"Hello,\" + name +\".Good Morning\")"
   ]
  },
  {
   "cell_type": "code",
   "execution_count": 3,
   "id": "logical-stroke",
   "metadata": {},
   "outputs": [
    {
     "name": "stdout",
     "output_type": "stream",
     "text": [
      "Hello,훈선님.Good Morning\n"
     ]
    }
   ],
   "source": [
    "greet('훈선님')"
   ]
  },
  {
   "cell_type": "code",
   "execution_count": 4,
   "id": "failing-organizer",
   "metadata": {},
   "outputs": [
    {
     "name": "stdout",
     "output_type": "stream",
     "text": [
      "Hello,정한님.Good Morning\n"
     ]
    }
   ],
   "source": [
    "greet('정한님')"
   ]
  },
  {
   "cell_type": "code",
   "execution_count": 47,
   "id": "major-cursor",
   "metadata": {},
   "outputs": [],
   "source": [
    "def greet(name, time='  아침은 드셨나요?'):\n",
    "    print(\"Hello,\" + name + time)"
   ]
  },
  {
   "cell_type": "code",
   "execution_count": 6,
   "id": "pressing-nursing",
   "metadata": {},
   "outputs": [
    {
     "name": "stdout",
     "output_type": "stream",
     "text": [
      "Hello,정한님아침을 드셨나요?\n"
     ]
    }
   ],
   "source": [
    "greet('정한님', \"아침을 드셨나요?\")"
   ]
  },
  {
   "cell_type": "code",
   "execution_count": 11,
   "id": "certain-sixth",
   "metadata": {},
   "outputs": [
    {
     "name": "stdout",
     "output_type": "stream",
     "text": [
      "Hello,유리님  날씨가 좋으네요\n"
     ]
    }
   ],
   "source": [
    "greet('유리님', '  날씨가 좋으네요')"
   ]
  },
  {
   "cell_type": "code",
   "execution_count": 51,
   "id": "motivated-spouse",
   "metadata": {},
   "outputs": [
    {
     "name": "stdout",
     "output_type": "stream",
     "text": [
      "Hello,유리님아침은 드셨나요?\n"
     ]
    }
   ],
   "source": [
    "greet('유리님',)  # 파라미터 개수를 맞춰줘야 하지만 함수를 정의해주면 ... 맞추지 않아도 됨 _ 450쪽 참조"
   ]
  },
  {
   "cell_type": "code",
   "execution_count": 25,
   "id": "vanilla-turkey",
   "metadata": {},
   "outputs": [
    {
     "name": "stdout",
     "output_type": "stream",
     "text": [
      "30\n"
     ]
    }
   ],
   "source": [
    "def functionAdd(n1,n2):\n",
    "    return n1 + n2\n",
    "\n",
    "result = functionAdd(10,20)\n",
    "print(result)"
   ]
  },
  {
   "cell_type": "code",
   "execution_count": 20,
   "id": "young-cowboy",
   "metadata": {},
   "outputs": [
    {
     "name": "stdout",
     "output_type": "stream",
     "text": [
      "30\n",
      "200\n"
     ]
    }
   ],
   "source": [
    "def functionAdd(n1,n2):\n",
    "    return n1+n2, n1*n2\n",
    "\n",
    "r1,r2 = functionAdd(10,20)\n",
    "print(r1)\n",
    "print(r2)"
   ]
  },
  {
   "cell_type": "code",
   "execution_count": 21,
   "id": "novel-wages",
   "metadata": {},
   "outputs": [],
   "source": [
    "def abs_value(n):\n",
    "    if n >= 0:\n",
    "        return n\n",
    "    else :\n",
    "        return-n"
   ]
  },
  {
   "cell_type": "code",
   "execution_count": 23,
   "id": "binding-martial",
   "metadata": {},
   "outputs": [
    {
     "data": {
      "text/plain": [
       "5"
      ]
     },
     "execution_count": 23,
     "metadata": {},
     "output_type": "execute_result"
    }
   ],
   "source": [
    "abs_value(-5)"
   ]
  },
  {
   "cell_type": "code",
   "execution_count": 27,
   "id": "wound-making",
   "metadata": {},
   "outputs": [
    {
     "name": "stdout",
     "output_type": "stream",
     "text": [
      "2\n",
      "2\n"
     ]
    }
   ],
   "source": [
    "# 두수를  패러미터로 전달받아, 몫과 나머지를 잠환하는 함수를 선언하고, 10과 4를 채러미터로 전달하여 \n",
    "# 실행을 확인해보세요.\n",
    "\n",
    "def res(a1,b1):\n",
    "    return a1 // b1, a1 % b1\n",
    "\n",
    "a2,b2 = res(10,4)\n",
    "print(a2)\n",
    "print(b2)"
   ]
  },
  {
   "cell_type": "code",
   "execution_count": 28,
   "id": "future-typing",
   "metadata": {},
   "outputs": [
    {
     "name": "stdout",
     "output_type": "stream",
     "text": [
      "(1,)\n",
      "1\n",
      "(1, 2)\n",
      "3\n",
      "(1, 2, 3)\n",
      "6\n"
     ]
    }
   ],
   "source": [
    "def varSum(*numbers):  #가변함수\n",
    "    print(numbers)\n",
    "    sum = 0\n",
    "    for number in numbers:\n",
    "        sum += number\n",
    "    return sum\n",
    "\n",
    "print(varSum(1))\n",
    "print(varSum(1,2))\n",
    "print(varSum(1,2,3))"
   ]
  },
  {
   "cell_type": "code",
   "execution_count": 29,
   "id": "interracial-volleyball",
   "metadata": {},
   "outputs": [
    {
     "name": "stdout",
     "output_type": "stream",
     "text": [
      "이름 : 홍길동\n",
      "나이 : 19\n",
      "주소 : 청주시 상당구\n"
     ]
    }
   ],
   "source": [
    "def perinfo(name, age, address):  # 키워드 아규먼트(인수)\n",
    "    print('이름 :',name)\n",
    "    print('나이 :', age)\n",
    "    print('주소 :', address)\n",
    "\n",
    "perinfo(age=19, name='홍길동', address='청주시 상당구')"
   ]
  },
  {
   "cell_type": "code",
   "execution_count": 30,
   "id": "exclusive-integral",
   "metadata": {},
   "outputs": [],
   "source": [
    "def fact(n):      # 재귀호출\n",
    "    if n == 1 :\n",
    "        return 1\n",
    "    else :\n",
    "        return n * fact(n-1)"
   ]
  },
  {
   "cell_type": "code",
   "execution_count": 31,
   "id": "artistic-deadline",
   "metadata": {},
   "outputs": [
    {
     "data": {
      "text/plain": [
       "6"
      ]
     },
     "execution_count": 31,
     "metadata": {},
     "output_type": "execute_result"
    }
   ],
   "source": [
    "fact(3)\n"
   ]
  },
  {
   "cell_type": "code",
   "execution_count": 32,
   "id": "appointed-japanese",
   "metadata": {},
   "outputs": [
    {
     "data": {
      "text/plain": [
       "3628800"
      ]
     },
     "execution_count": 32,
     "metadata": {},
     "output_type": "execute_result"
    }
   ],
   "source": [
    "fact(10)"
   ]
  },
  {
   "cell_type": "code",
   "execution_count": 33,
   "id": "caring-devices",
   "metadata": {},
   "outputs": [
    {
     "data": {
      "text/plain": [
       "93326215443944152681699238856266700490715968264381621468592963895217599993229915608941463976156518286253697920827223758251185210916864000000000000000000000000"
      ]
     },
     "execution_count": 33,
     "metadata": {},
     "output_type": "execute_result"
    }
   ],
   "source": [
    "fact(100)"
   ]
  },
  {
   "cell_type": "code",
   "execution_count": 35,
   "id": "fallen-richmond",
   "metadata": {},
   "outputs": [
    {
     "name": "stdout",
     "output_type": "stream",
     "text": [
      "3\n"
     ]
    }
   ],
   "source": [
    "# 람다lambda _ 함수를 만들지 않고 1회성으로 사용할 경우 함수 정의하지 않고 함수와같이 사용 _ 컴퓨터 저장공간(리소스) 호율화...\n",
    "\n",
    "#lambda 매개변수 리스트 \n",
    "\n",
    "#def add(a, b):\n",
    "#    return a+b\n",
    "#print(add(1,2))\n",
    "\n",
    "print((lambda a, b:a+b)(1,2))"
   ]
  },
  {
   "cell_type": "code",
   "execution_count": 36,
   "id": "periodic-jenny",
   "metadata": {},
   "outputs": [
    {
     "name": "stdout",
     "output_type": "stream",
     "text": [
      "3\n"
     ]
    }
   ],
   "source": [
    "def add(a, b):\n",
    "    return a+b\n",
    "print(add(1,2))"
   ]
  },
  {
   "cell_type": "code",
   "execution_count": 40,
   "id": "informed-courage",
   "metadata": {},
   "outputs": [
    {
     "ename": "NameError",
     "evalue": "name 'teacher' is not defined",
     "output_type": "error",
     "traceback": [
      "\u001b[1;31m---------------------------------------------------------------------------\u001b[0m",
      "\u001b[1;31mNameError\u001b[0m                                 Traceback (most recent call last)",
      "\u001b[1;32m<ipython-input-40-dfa6b97c391e>\u001b[0m in \u001b[0;36m<module>\u001b[1;34m\u001b[0m\n\u001b[0;32m      7\u001b[0m \u001b[1;33m\u001b[0m\u001b[0m\n\u001b[0;32m      8\u001b[0m \u001b[0mR703\u001b[0m\u001b[1;33m(\u001b[0m\u001b[1;33m)\u001b[0m\u001b[1;33m\u001b[0m\u001b[1;33m\u001b[0m\u001b[0m\n\u001b[1;32m----> 9\u001b[1;33m \u001b[0mprint\u001b[0m\u001b[1;33m(\u001b[0m\u001b[0mteacher\u001b[0m\u001b[1;33m)\u001b[0m\u001b[1;33m\u001b[0m\u001b[1;33m\u001b[0m\u001b[0m\n\u001b[0m",
      "\u001b[1;31mNameError\u001b[0m: name 'teacher' is not defined"
     ]
    }
   ],
   "source": [
    "# 비역변수__Local variable\n",
    "# 번역변수__Global variable\n",
    "\n",
    "def R703() :\n",
    "    teacher = '이성종'\n",
    "    #print(teacher)\n",
    "\n",
    "R703()\n",
    "print(teacher)"
   ]
  },
  {
   "cell_type": "code",
   "execution_count": 45,
   "id": "reserved-spare",
   "metadata": {},
   "outputs": [
    {
     "name": "stdout",
     "output_type": "stream",
     "text": [
      "한국아이티\n",
      "이성종\n",
      "한국아이티\n"
     ]
    }
   ],
   "source": [
    "teacher ='한국아이티'\n",
    "print(teacher)\n",
    "def R703() :\n",
    "    teacher = '이성종'\n",
    "    print(teacher)\n",
    "\n",
    "R703()\n",
    "print(teacher)"
   ]
  },
  {
   "cell_type": "code",
   "execution_count": 42,
   "id": "universal-citizenship",
   "metadata": {},
   "outputs": [
    {
     "name": "stdout",
     "output_type": "stream",
     "text": [
      "한국아이티\n",
      "한국아이티\n"
     ]
    }
   ],
   "source": [
    "# 전역변수\n",
    "\n",
    "eacher ='한국아이티'\n",
    "def R703() :\n",
    "    #teacher = '이성종'\n",
    "    print(teacher)\n",
    "\n",
    "R703()\n",
    "print(teacher)"
   ]
  },
  {
   "cell_type": "code",
   "execution_count": 46,
   "id": "educated-equilibrium",
   "metadata": {},
   "outputs": [
    {
     "name": "stdout",
     "output_type": "stream",
     "text": [
      "한국아이티\n",
      "이성종\n",
      "이성종\n"
     ]
    }
   ],
   "source": [
    "teacher ='한국아이티'\n",
    "print(teacher)\n",
    "def R703() :\n",
    "    global teacher  # local 변수로 global 변수로 변환\n",
    "    teacher = '이성종'\n",
    "    print(teacher)\n",
    "\n",
    "R703()\n",
    "print(teacher)"
   ]
  },
  {
   "cell_type": "code",
   "execution_count": null,
   "id": "described-circle",
   "metadata": {},
   "outputs": [],
   "source": []
  }
 ],
 "metadata": {
  "kernelspec": {
   "display_name": "Python 3",
   "language": "python",
   "name": "python3"
  },
  "language_info": {
   "codemirror_mode": {
    "name": "ipython",
    "version": 3
   },
   "file_extension": ".py",
   "mimetype": "text/x-python",
   "name": "python",
   "nbconvert_exporter": "python",
   "pygments_lexer": "ipython3",
   "version": "3.9.2"
  }
 },
 "nbformat": 4,
 "nbformat_minor": 5
}
