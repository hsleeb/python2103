{
 "cells": [
  {
   "cell_type": "code",
   "execution_count": 4,
   "id": "recorded-constant",
   "metadata": {},
   "outputs": [],
   "source": [
    "class Person:\n",
    "    count = 0\n",
    "    def __init__(self):\n",
    "        self.name = \"\"\n",
    "        self.age = 0\n",
    "        \n",
    "    def showInfo(self):\n",
    "        print(self.name, self.age)"
   ]
  },
  {
   "cell_type": "code",
   "execution_count": 5,
   "id": "polyphonic-selling",
   "metadata": {},
   "outputs": [],
   "source": [
    "hong = Person()"
   ]
  },
  {
   "cell_type": "code",
   "execution_count": 6,
   "id": "sustained-gamma",
   "metadata": {},
   "outputs": [],
   "source": [
    "hong.name =\"홍길동\"\n",
    "hong.age = 19"
   ]
  },
  {
   "cell_type": "code",
   "execution_count": 7,
   "id": "acute-swing",
   "metadata": {},
   "outputs": [
    {
     "name": "stdout",
     "output_type": "stream",
     "text": [
      "홍길동 19\n"
     ]
    }
   ],
   "source": [
    "hong.showInfo()"
   ]
  },
  {
   "cell_type": "code",
   "execution_count": 8,
   "id": "communist-poison",
   "metadata": {},
   "outputs": [],
   "source": [
    "class Person:\n",
    "    count = 0\n",
    "    def __init__(self,name,age): # cpnstructor\n",
    "        self.name = name\n",
    "        self.age = age\n",
    "        \n",
    "    def showInfo(self):\n",
    "        print(self.name, self.age)"
   ]
  },
  {
   "cell_type": "code",
   "execution_count": 10,
   "id": "thermal-safety",
   "metadata": {},
   "outputs": [],
   "source": [
    "hong = Person(\"홍길동\",19)"
   ]
  },
  {
   "cell_type": "code",
   "execution_count": 11,
   "id": "close-colorado",
   "metadata": {},
   "outputs": [
    {
     "name": "stdout",
     "output_type": "stream",
     "text": [
      " 0\n"
     ]
    }
   ],
   "source": [
    "hong.showInfo()"
   ]
  },
  {
   "cell_type": "code",
   "execution_count": null,
   "id": "relative-criterion",
   "metadata": {},
   "outputs": [],
   "source": [
    "class Person:\n",
    "    count = 0\n",
    "    def __init__(self,name,age): # cpnstructor\n",
    "        self.name = name\n",
    "        self.age = age\n",
    "        \n",
    "    def showInfo(self):\n",
    "        print(self.name, self.age)"
   ]
  }
 ],
 "metadata": {
  "kernelspec": {
   "display_name": "Python 3",
   "language": "python",
   "name": "python3"
  },
  "language_info": {
   "codemirror_mode": {
    "name": "ipython",
    "version": 3
   },
   "file_extension": ".py",
   "mimetype": "text/x-python",
   "name": "python",
   "nbconvert_exporter": "python",
   "pygments_lexer": "ipython3",
   "version": "3.9.2"
  }
 },
 "nbformat": 4,
 "nbformat_minor": 5
}
