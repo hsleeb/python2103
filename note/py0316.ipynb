{
 "cells": [
  {
   "cell_type": "code",
   "execution_count": 8,
   "id": "anonymous-doctor",
   "metadata": {},
   "outputs": [
    {
     "name": "stdout",
     "output_type": "stream",
     "text": [
      "       2 단 \n",
      "  2 *   1 =   2\n",
      "  2 *   2 =   4\n",
      "  2 *   3 =   6\n",
      "  2 *   4 =   8\n",
      "  2 *   5 =  10\n",
      "  2 *   6 =  12\n",
      "  2 *   7 =  14\n",
      "  2 *   8 =  16\n",
      "  2 *   9 =  18\n",
      "\n",
      "       3 단 \n",
      "  3 *   1 =   3\n",
      "  3 *   2 =   6\n",
      "  3 *   3 =   9\n",
      "  3 *   4 =  12\n",
      "  3 *   5 =  15\n",
      "  3 *   6 =  18\n",
      "  3 *   7 =  21\n",
      "  3 *   8 =  24\n",
      "  3 *   9 =  27\n",
      "\n",
      "       4 단 \n",
      "  4 *   1 =   4\n",
      "  4 *   2 =   8\n",
      "  4 *   3 =  12\n",
      "  4 *   4 =  16\n",
      "  4 *   5 =  20\n",
      "  4 *   6 =  24\n",
      "  4 *   7 =  28\n",
      "  4 *   8 =  32\n",
      "  4 *   9 =  36\n",
      "\n",
      "       5 단 \n",
      "  5 *   1 =   5\n",
      "  5 *   2 =  10\n",
      "  5 *   3 =  15\n",
      "  5 *   4 =  20\n",
      "  5 *   5 =  25\n",
      "  5 *   6 =  30\n",
      "  5 *   7 =  35\n",
      "  5 *   8 =  40\n",
      "  5 *   9 =  45\n",
      "\n",
      "       6 단 \n",
      "  6 *   1 =   6\n",
      "  6 *   2 =  12\n",
      "  6 *   3 =  18\n",
      "  6 *   4 =  24\n",
      "  6 *   5 =  30\n",
      "  6 *   6 =  36\n",
      "  6 *   7 =  42\n",
      "  6 *   8 =  48\n",
      "  6 *   9 =  54\n",
      "\n",
      "       7 단 \n",
      "  7 *   1 =   7\n",
      "  7 *   2 =  14\n",
      "  7 *   3 =  21\n",
      "  7 *   4 =  28\n",
      "  7 *   5 =  35\n",
      "  7 *   6 =  42\n",
      "  7 *   7 =  49\n",
      "  7 *   8 =  56\n",
      "  7 *   9 =  63\n",
      "\n",
      "       8 단 \n",
      "  8 *   1 =   8\n",
      "  8 *   2 =  16\n",
      "  8 *   3 =  24\n",
      "  8 *   4 =  32\n",
      "  8 *   5 =  40\n",
      "  8 *   6 =  48\n",
      "  8 *   7 =  56\n",
      "  8 *   8 =  64\n",
      "  8 *   9 =  72\n",
      "\n",
      "       9 단 \n",
      "  9 *   1 =   9\n",
      "  9 *   2 =  18\n",
      "  9 *   3 =  27\n",
      "  9 *   4 =  36\n",
      "  9 *   5 =  45\n",
      "  9 *   6 =  54\n",
      "  9 *   7 =  63\n",
      "  9 *   8 =  72\n",
      "  9 *   9 =  81\n",
      "\n"
     ]
    }
   ],
   "source": [
    "#다중 for loop의 예제 : 구구단\n",
    "\n",
    "\n",
    "for i in range(2,10) :\n",
    "    print(\"       %d 단 \" % i)\n",
    "    for j in range(1,10) :\n",
    "        print(\"{0:3d} * {1:3d} = {2:3d}\".format(i,j, i*j))\n",
    "    print (\"\")"
   ]
  },
  {
   "cell_type": "code",
   "execution_count": 17,
   "id": "graduate-injury",
   "metadata": {},
   "outputs": [
    {
     "name": "stdout",
     "output_type": "stream",
     "text": [
      "       2 단        3단\n",
      " 2 *  1 =  2   3 *  1 =  3\n",
      " 2 *  2 =  4   3 *  2 =  6\n",
      " 2 *  3 =  6   3 *  3 =  9\n",
      " 2 *  4 =  8   3 *  4 = 12\n",
      " 2 *  5 = 10   3 *  5 = 15\n",
      " 2 *  6 = 12   3 *  6 = 18\n",
      " 2 *  7 = 14   3 *  7 = 21\n",
      " 2 *  8 = 16   3 *  8 = 24\n",
      " 2 *  9 = 18   3 *  9 = 27\n",
      "\n",
      "       4 단        5단\n",
      " 4 *  1 =  4   5 *  1 =  5\n",
      " 4 *  2 =  8   5 *  2 = 10\n",
      " 4 *  3 = 12   5 *  3 = 15\n",
      " 4 *  4 = 16   5 *  4 = 20\n",
      " 4 *  5 = 20   5 *  5 = 25\n",
      " 4 *  6 = 24   5 *  6 = 30\n",
      " 4 *  7 = 28   5 *  7 = 35\n",
      " 4 *  8 = 32   5 *  8 = 40\n",
      " 4 *  9 = 36   5 *  9 = 45\n",
      "\n",
      "       6 단        7단\n",
      " 6 *  1 =  6   7 *  1 =  7\n",
      " 6 *  2 = 12   7 *  2 = 14\n",
      " 6 *  3 = 18   7 *  3 = 21\n",
      " 6 *  4 = 24   7 *  4 = 28\n",
      " 6 *  5 = 30   7 *  5 = 35\n",
      " 6 *  6 = 36   7 *  6 = 42\n",
      " 6 *  7 = 42   7 *  7 = 49\n",
      " 6 *  8 = 48   7 *  8 = 56\n",
      " 6 *  9 = 54   7 *  9 = 63\n",
      "\n",
      "       8 단        9단\n",
      " 8 *  1 =  8   9 *  1 =  9\n",
      " 8 *  2 = 16   9 *  2 = 18\n",
      " 8 *  3 = 24   9 *  3 = 27\n",
      " 8 *  4 = 32   9 *  4 = 36\n",
      " 8 *  5 = 40   9 *  5 = 45\n",
      " 8 *  6 = 48   9 *  6 = 54\n",
      " 8 *  7 = 56   9 *  7 = 63\n",
      " 8 *  8 = 64   9 *  8 = 72\n",
      " 8 *  9 = 72   9 *  9 = 81\n",
      "\n"
     ]
    }
   ],
   "source": [
    "#다중 for loop의 예제 : 구구단\n",
    "for i in range(2, 10, 2) :\n",
    "    print(\"       %d 단        %d단\" %(i, i+1))\n",
    "    for j in range(1,10) :\n",
    "        print(\"{0:2d} * {1:2d} = {2:2d}  {3:2d} * {4:2d} = {5:2d}\".format(i,j, i*j, i+1, j, (i+1)*j))\n",
    "    print (\"\")"
   ]
  },
  {
   "cell_type": "code",
   "execution_count": 9,
   "id": "characteristic-wales",
   "metadata": {},
   "outputs": [
    {
     "name": "stdout",
     "output_type": "stream",
     "text": [
      "1~100의 합계(3의 배수 제외) : 3367\n"
     ]
    }
   ],
   "source": [
    "sum, i = 0, 0\n",
    "for i in range(1,101):\n",
    "    if i % 3 == 0:\n",
    "        continue\n",
    "    sum += i\n",
    "print(\"1~100의 합계(3의 배수 제외) : %d\" % sum)"
   ]
  },
  {
   "cell_type": "code",
   "execution_count": 18,
   "id": "aquatic-factory",
   "metadata": {},
   "outputs": [
    {
     "name": "stdout",
     "output_type": "stream",
     "text": [
      "[1, 2, 3]\n"
     ]
    },
    {
     "data": {
      "text/plain": [
       "list"
      ]
     },
     "execution_count": 18,
     "metadata": {},
     "output_type": "execute_result"
    }
   ],
   "source": [
    "# 리스트의 생성1. []사용 \n",
    "lst_a = [1, 2,3]\n",
    "print(lst_a)\n",
    "type(lst_a)"
   ]
  },
  {
   "cell_type": "code",
   "execution_count": 19,
   "id": "floppy-component",
   "metadata": {},
   "outputs": [
    {
     "name": "stdout",
     "output_type": "stream",
     "text": [
      "[0, 1, 2, 3]\n"
     ]
    },
    {
     "data": {
      "text/plain": [
       "list"
      ]
     },
     "execution_count": 19,
     "metadata": {},
     "output_type": "execute_result"
    }
   ],
   "source": [
    "#리스트 생성자2. list()\n",
    "lst_b = list(range(4))\n",
    "print(lst_b)\n",
    "type(lst_b)"
   ]
  },
  {
   "cell_type": "code",
   "execution_count": 20,
   "id": "representative-waterproof",
   "metadata": {},
   "outputs": [
    {
     "name": "stdout",
     "output_type": "stream",
     "text": [
      "[1, 2, 3, 4, 5, 6, 7, 8, 9, 10, 11, 12, 13, 14, 15, 16, 17, 18, 19, 20, 21, 22, 23, 24, 25, 26, 27, 28, 29, 30, 31, 32, 33, 34, 35, 36, 37, 38, 39, 40, 41, 42, 43, 44, 45, 46, 47, 48, 49, 50, 51, 52, 53, 54, 55, 56, 57, 58, 59, 60, 61, 62, 63, 64, 65, 66, 67, 68, 69, 70, 71, 72, 73, 74, 75, 76, 77, 78, 79, 80, 81, 82, 83, 84, 85, 86, 87, 88, 89, 90, 91, 92, 93, 94, 95, 96, 97, 98]\n"
     ]
    },
    {
     "data": {
      "text/plain": [
       "list"
      ]
     },
     "execution_count": 20,
     "metadata": {},
     "output_type": "execute_result"
    }
   ],
   "source": [
    "#리스트 생성자2. list()\n",
    "lst_b = list(range(1,99))\n",
    "print(lst_b)\n",
    "type(lst_b)"
   ]
  },
  {
   "cell_type": "code",
   "execution_count": 23,
   "id": "false-champion",
   "metadata": {},
   "outputs": [
    {
     "name": "stdout",
     "output_type": "stream",
     "text": [
      "['홍길동', 19, 181.5, True]\n"
     ]
    }
   ],
   "source": [
    "# 리스트에 여러가지 자료형 동시 저장하기\n",
    "person = ['홍길동', 19, 181.5, True]\n",
    "print(person)"
   ]
  },
  {
   "cell_type": "code",
   "execution_count": 25,
   "id": "devoted-storage",
   "metadata": {},
   "outputs": [
    {
     "name": "stdout",
     "output_type": "stream",
     "text": [
      "True\n"
     ]
    }
   ],
   "source": [
    "print(person[3])"
   ]
  },
  {
   "cell_type": "code",
   "execution_count": 26,
   "id": "listed-unemployment",
   "metadata": {},
   "outputs": [
    {
     "name": "stdout",
     "output_type": "stream",
     "text": [
      "True\n"
     ]
    }
   ],
   "source": [
    "print(person[-1])"
   ]
  },
  {
   "cell_type": "code",
   "execution_count": 31,
   "id": "norwegian-sweden",
   "metadata": {},
   "outputs": [
    {
     "name": "stdout",
     "output_type": "stream",
     "text": [
      "[19, 181.5, True]\n"
     ]
    }
   ],
   "source": [
    "print(person[1:]) # 1번부터 "
   ]
  },
  {
   "cell_type": "code",
   "execution_count": 29,
   "id": "central-order",
   "metadata": {},
   "outputs": [
    {
     "name": "stdout",
     "output_type": "stream",
     "text": [
      "['홍길동', 19, 181.5]\n"
     ]
    }
   ],
   "source": [
    "print(person[0:3]) # 스라이싱 (slicing)"
   ]
  },
  {
   "cell_type": "code",
   "execution_count": 30,
   "id": "saved-auckland",
   "metadata": {},
   "outputs": [
    {
     "name": "stdout",
     "output_type": "stream",
     "text": [
      "['홍길동', 181.5]\n"
     ]
    }
   ],
   "source": [
    "print(person[:3:2]) #2번째를 건너뜀"
   ]
  },
  {
   "cell_type": "code",
   "execution_count": 28,
   "id": "funded-boston",
   "metadata": {},
   "outputs": [
    {
     "name": "stdout",
     "output_type": "stream",
     "text": [
      "[]\n"
     ]
    }
   ],
   "source": [
    "# 빈 리스트 \n",
    "lst_a = [];type(lst_a);print(lst_a)"
   ]
  },
  {
   "cell_type": "code",
   "execution_count": 38,
   "id": "fancy-abraham",
   "metadata": {},
   "outputs": [
    {
     "name": "stdout",
     "output_type": "stream",
     "text": [
      "['258-2800', 'koprea', '한국아이치 전문학원', '한국아이티 전문학원', '한국아이티 전문학원', '가나다', 'koprea', '한국아이티 전문학원']\n",
      "['258-2800', 'koprea', '한국아이치 전문학원', '한국아이티 전문학원', '한국아이티 전문학원', '가나다', 'koprea', '한국아이티 전문학원', '258-2800']\n"
     ]
    }
   ],
   "source": [
    "lst_a.append(\"한국아이티 전문학원\")\n",
    "print(lst_a)\n",
    "lst_a.append(\"258-2800\")\n",
    "print(lst_a)"
   ]
  },
  {
   "cell_type": "code",
   "execution_count": 34,
   "id": "determined-carolina",
   "metadata": {},
   "outputs": [
    {
     "name": "stdout",
     "output_type": "stream",
     "text": [
      "['한국아이치 전문학원', '258-2800', '한국아이티 전문학원']\n"
     ]
    }
   ],
   "source": [
    "lst_a.pop()\n",
    "print(lst_a)"
   ]
  },
  {
   "cell_type": "code",
   "execution_count": 37,
   "id": "comfortable-angle",
   "metadata": {},
   "outputs": [],
   "source": [
    "lst_a.append(\"가나다\")\n",
    "lst_a.append(\"koprea\")"
   ]
  },
  {
   "cell_type": "code",
   "execution_count": 36,
   "id": "convenient-emphasis",
   "metadata": {},
   "outputs": [
    {
     "name": "stdout",
     "output_type": "stream",
     "text": [
      "['258-2800', 'koprea', '한국아이치 전문학원', '한국아이티 전문학원', '한국아이티 전문학원']\n"
     ]
    }
   ],
   "source": [
    "lst_a.sort()\n",
    "print(lst_a)"
   ]
  },
  {
   "cell_type": "code",
   "execution_count": 40,
   "id": "ecological-germany",
   "metadata": {},
   "outputs": [
    {
     "name": "stdout",
     "output_type": "stream",
     "text": [
      "['258-2800', 'ABC', '한국아이치 전문학원', '한국아이티 전문학원', '한국아이티 전문학원', '가나다', 'koprea', '한국아이티 전문학원', '258-2800']\n"
     ]
    }
   ],
   "source": [
    "lst_a[1]='ABC' \n",
    "print(lst_a)"
   ]
  },
  {
   "cell_type": "code",
   "execution_count": 49,
   "id": "continuous-background",
   "metadata": {},
   "outputs": [
    {
     "name": "stdout",
     "output_type": "stream",
     "text": [
      "('이름', '학번', '학과', '주소')\n"
     ]
    }
   ],
   "source": [
    "t1=(\"이름\",'학번',\"학과\",\"주소\",)\n",
    "print(t1)"
   ]
  },
  {
   "cell_type": "code",
   "execution_count": 43,
   "id": "exclusive-federation",
   "metadata": {},
   "outputs": [
    {
     "data": {
      "text/plain": [
       "tuple"
      ]
     },
     "execution_count": 43,
     "metadata": {},
     "output_type": "execute_result"
    }
   ],
   "source": [
    "type(t1)"
   ]
  },
  {
   "cell_type": "code",
   "execution_count": 44,
   "id": "alpha-halifax",
   "metadata": {},
   "outputs": [
    {
     "name": "stdout",
     "output_type": "stream",
     "text": [
      "주소\n"
     ]
    }
   ],
   "source": [
    "print(t1[-1])"
   ]
  },
  {
   "cell_type": "code",
   "execution_count": 45,
   "id": "electoral-restriction",
   "metadata": {},
   "outputs": [
    {
     "ename": "TypeError",
     "evalue": "'tuple' object does not support item assignment",
     "output_type": "error",
     "traceback": [
      "\u001b[1;31m---------------------------------------------------------------------------\u001b[0m",
      "\u001b[1;31mTypeError\u001b[0m                                 Traceback (most recent call last)",
      "\u001b[1;32m<ipython-input-45-a4ef56e74902>\u001b[0m in \u001b[0;36m<module>\u001b[1;34m\u001b[0m\n\u001b[1;32m----> 1\u001b[1;33m \u001b[0mt1\u001b[0m\u001b[1;33m[\u001b[0m\u001b[1;33m-\u001b[0m\u001b[1;36m1\u001b[0m\u001b[1;33m]\u001b[0m \u001b[1;33m=\u001b[0m \u001b[1;34m\"전화번호\"\u001b[0m\u001b[1;33m\u001b[0m\u001b[1;33m\u001b[0m\u001b[0m\n\u001b[0m",
      "\u001b[1;31mTypeError\u001b[0m: 'tuple' object does not support item assignment"
     ]
    }
   ],
   "source": [
    "t1[-1] = \"전화번호\"  #대입하는 것 즉 수정을 허락하지 않는다.....읽기 전용 자료"
   ]
  },
  {
   "cell_type": "code",
   "execution_count": 47,
   "id": "wicked-chick",
   "metadata": {},
   "outputs": [
    {
     "ename": "AttributeError",
     "evalue": "'tuple' object has no attribute 'append'",
     "output_type": "error",
     "traceback": [
      "\u001b[1;31m---------------------------------------------------------------------------\u001b[0m",
      "\u001b[1;31mAttributeError\u001b[0m                            Traceback (most recent call last)",
      "\u001b[1;32m<ipython-input-47-bc468d31acf9>\u001b[0m in \u001b[0;36m<module>\u001b[1;34m\u001b[0m\n\u001b[1;32m----> 1\u001b[1;33m \u001b[0mt1\u001b[0m\u001b[1;33m.\u001b[0m\u001b[0mappend\u001b[0m \u001b[1;33m=\u001b[0m \u001b[1;34m\"전화번호\"\u001b[0m\u001b[1;33m\u001b[0m\u001b[1;33m\u001b[0m\u001b[0m\n\u001b[0m",
      "\u001b[1;31mAttributeError\u001b[0m: 'tuple' object has no attribute 'append'"
     ]
    }
   ],
   "source": [
    "#t1.append = \"전화번호\" "
   ]
  },
  {
   "cell_type": "code",
   "execution_count": 56,
   "id": "regulated-talent",
   "metadata": {},
   "outputs": [
    {
     "name": "stdout",
     "output_type": "stream",
     "text": [
      "['이름', '학번', '학과', '주소', '전화번호', '전화번호']\n"
     ]
    }
   ],
   "source": [
    "#수정을 하려면 튜플을 list로 변환하여 작업후 ---> 튜플로 다시 전환\n",
    "\n",
    "t1 = list(t1)\n",
    "#t1.append(\"전화번호\")\n",
    "print(t1)"
   ]
  },
  {
   "cell_type": "code",
   "execution_count": 60,
   "id": "small-steps",
   "metadata": {},
   "outputs": [
    {
     "name": "stdout",
     "output_type": "stream",
     "text": [
      "{'name': '홍길동', 'phone': '010-1234-5678', 'addr': '청주시 상당구'}\n"
     ]
    }
   ],
   "source": [
    "#딕셔너리의 생성과 활용\n",
    "dic1 = {'name':'홍길동', 'phone':'010-1234-5678', 'addr':'청주시 상당구'}\n",
    "print(dic1)\n"
   ]
  },
  {
   "cell_type": "code",
   "execution_count": 61,
   "id": "hungry-chile",
   "metadata": {},
   "outputs": [
    {
     "name": "stdout",
     "output_type": "stream",
     "text": [
      "홍길동\n"
     ]
    }
   ],
   "source": [
    "print(dic1['name'])"
   ]
  },
  {
   "cell_type": "code",
   "execution_count": 63,
   "id": "collected-export",
   "metadata": {},
   "outputs": [
    {
     "name": "stdout",
     "output_type": "stream",
     "text": [
      "홍길동\n",
      "010-1234-5678\n",
      "청주시 상당구\n"
     ]
    }
   ],
   "source": [
    "print(dic1['name'])\n",
    "print(dic1['phone'])\n",
    "print(dic1['addr'])"
   ]
  },
  {
   "cell_type": "code",
   "execution_count": 65,
   "id": "seasonal-company",
   "metadata": {},
   "outputs": [
    {
     "name": "stdout",
     "output_type": "stream",
     "text": [
      "홍길동\n"
     ]
    }
   ],
   "source": [
    "print(dic1.get('name')) #get(키) ; 키를 이용해서 값을 얻는다."
   ]
  },
  {
   "cell_type": "code",
   "execution_count": 68,
   "id": "lucky-revolution",
   "metadata": {},
   "outputs": [
    {
     "name": "stdout",
     "output_type": "stream",
     "text": [
      "dict_keys(['name', 'phone', 'addr'])\n"
     ]
    }
   ],
   "source": [
    " print(dic1.keys())"
   ]
  },
  {
   "cell_type": "code",
   "execution_count": 69,
   "id": "elegant-holiday",
   "metadata": {},
   "outputs": [
    {
     "name": "stdout",
     "output_type": "stream",
     "text": [
      "dict_values(['홍길동', '010-1234-5678', '청주시 상당구'])\n"
     ]
    }
   ],
   "source": [
    " print(dic1.values())"
   ]
  },
  {
   "cell_type": "code",
   "execution_count": 74,
   "id": "green-fence",
   "metadata": {},
   "outputs": [
    {
     "name": "stdout",
     "output_type": "stream",
     "text": [
      "dict_items([('name', '성춘향')])\n"
     ]
    }
   ],
   "source": [
    " print(dic1.items())"
   ]
  },
  {
   "cell_type": "code",
   "execution_count": 75,
   "id": "prerequisite-aberdeen",
   "metadata": {},
   "outputs": [
    {
     "ename": "NameError",
     "evalue": "name 'lst1' is not defined",
     "output_type": "error",
     "traceback": [
      "\u001b[1;31m---------------------------------------------------------------------------\u001b[0m",
      "\u001b[1;31mNameError\u001b[0m                                 Traceback (most recent call last)",
      "\u001b[1;32m<ipython-input-75-94498796015d>\u001b[0m in \u001b[0;36m<module>\u001b[1;34m\u001b[0m\n\u001b[0;32m      1\u001b[0m \u001b[0mdic1\u001b[0m\u001b[1;33m[\u001b[0m\u001b[1;34m'name'\u001b[0m\u001b[1;33m]\u001b[0m \u001b[1;33m=\u001b[0m \u001b[1;34m'성춘향'\u001b[0m\u001b[1;33m\u001b[0m\u001b[1;33m\u001b[0m\u001b[0m\n\u001b[1;32m----> 2\u001b[1;33m \u001b[0mprint\u001b[0m\u001b[1;33m(\u001b[0m\u001b[0mlst1\u001b[0m\u001b[1;33m)\u001b[0m\u001b[1;33m\u001b[0m\u001b[1;33m\u001b[0m\u001b[0m\n\u001b[0m",
      "\u001b[1;31mNameError\u001b[0m: name 'lst1' is not defined"
     ]
    }
   ],
   "source": [
    "dic1['name'] = '성춘향'\n",
    "print(lst1)"
   ]
  },
  {
   "cell_type": "code",
   "execution_count": 71,
   "id": "racial-collector",
   "metadata": {},
   "outputs": [
    {
     "name": "stdout",
     "output_type": "stream",
     "text": [
      "None\n"
     ]
    }
   ],
   "source": [
    " print(dic1.clear())"
   ]
  },
  {
   "cell_type": "code",
   "execution_count": 72,
   "id": "durable-submission",
   "metadata": {},
   "outputs": [
    {
     "name": "stdout",
     "output_type": "stream",
     "text": [
      "False\n"
     ]
    }
   ],
   "source": [
    "print('name' in dic1)"
   ]
  },
  {
   "cell_type": "code",
   "execution_count": 73,
   "id": "senior-courtesy",
   "metadata": {},
   "outputs": [
    {
     "ename": "NameError",
     "evalue": "name 'lst1' is not defined",
     "output_type": "error",
     "traceback": [
      "\u001b[1;31m---------------------------------------------------------------------------\u001b[0m",
      "\u001b[1;31mNameError\u001b[0m                                 Traceback (most recent call last)",
      "\u001b[1;32m<ipython-input-73-94498796015d>\u001b[0m in \u001b[0;36m<module>\u001b[1;34m\u001b[0m\n\u001b[0;32m      1\u001b[0m \u001b[0mdic1\u001b[0m\u001b[1;33m[\u001b[0m\u001b[1;34m'name'\u001b[0m\u001b[1;33m]\u001b[0m \u001b[1;33m=\u001b[0m \u001b[1;34m'성춘향'\u001b[0m\u001b[1;33m\u001b[0m\u001b[1;33m\u001b[0m\u001b[0m\n\u001b[1;32m----> 2\u001b[1;33m \u001b[0mprint\u001b[0m\u001b[1;33m(\u001b[0m\u001b[0mlst1\u001b[0m\u001b[1;33m)\u001b[0m\u001b[1;33m\u001b[0m\u001b[1;33m\u001b[0m\u001b[0m\n\u001b[0m",
      "\u001b[1;31mNameError\u001b[0m: name 'lst1' is not defined"
     ]
    }
   ],
   "source": [
    "dic1['name'] = '성춘향'\n",
    "print(lst1)"
   ]
  },
  {
   "cell_type": "code",
   "execution_count": 76,
   "id": "convenient-breeding",
   "metadata": {},
   "outputs": [],
   "source": [
    "#"
   ]
  },
  {
   "cell_type": "code",
   "execution_count": 77,
   "id": "bound-ranking",
   "metadata": {},
   "outputs": [
    {
     "name": "stdout",
     "output_type": "stream",
     "text": [
      "{'e', 'l', 'h', 'o'}\n"
     ]
    }
   ],
   "source": [
    "s1 = set('hello') # 순서의 개념이 없다\n",
    "print(s1)"
   ]
  },
  {
   "cell_type": "code",
   "execution_count": 81,
   "id": "answering-right",
   "metadata": {},
   "outputs": [
    {
     "name": "stdout",
     "output_type": "stream",
     "text": [
      "{4, 5, 6}\n",
      "{1, 2, 3, 4, 5, 6, 7, 8, 9}\n",
      "{1, 2, 3}\n"
     ]
    }
   ],
   "source": [
    "s1 = set([1,2,3,4,5,6])\n",
    "s2 = set([4,5,6,7,8,9])\n",
    "\n",
    "print(s1 & s2) #s1.intersection(s2)\n",
    "print(s1 | s2) #s1.union(s2)\n",
    "print(s1 - s2) #s1.difference(s2)"
   ]
  },
  {
   "cell_type": "code",
   "execution_count": 82,
   "id": "progressive-tenant",
   "metadata": {},
   "outputs": [
    {
     "data": {
      "text/plain": [
       "{4, 5, 6}"
      ]
     },
     "execution_count": 82,
     "metadata": {},
     "output_type": "execute_result"
    }
   ],
   "source": [
    "s1.intersection(s2)"
   ]
  },
  {
   "cell_type": "code",
   "execution_count": 83,
   "id": "mental-agenda",
   "metadata": {},
   "outputs": [
    {
     "data": {
      "text/plain": [
       "{1, 2, 3, 4, 5, 6, 7, 8, 9}"
      ]
     },
     "execution_count": 83,
     "metadata": {},
     "output_type": "execute_result"
    }
   ],
   "source": [
    "s1.union(s2)"
   ]
  },
  {
   "cell_type": "code",
   "execution_count": 84,
   "id": "capital-commissioner",
   "metadata": {},
   "outputs": [
    {
     "data": {
      "text/plain": [
       "{1, 2, 3}"
      ]
     },
     "execution_count": 84,
     "metadata": {},
     "output_type": "execute_result"
    }
   ],
   "source": [
    "s1.difference(s2)"
   ]
  },
  {
   "cell_type": "markdown",
   "id": "forbidden-leader",
   "metadata": {},
   "source": [
    "s3={1,2,3}\n",
    "type(s3)"
   ]
  },
  {
   "cell_type": "code",
   "execution_count": 86,
   "id": "educational-argentina",
   "metadata": {},
   "outputs": [
    {
     "data": {
      "text/plain": [
       "set"
      ]
     },
     "execution_count": 86,
     "metadata": {},
     "output_type": "execute_result"
    }
   ],
   "source": [
    "s3={1,2,3} \n",
    "type(s3)"
   ]
  },
  {
   "cell_type": "code",
   "execution_count": 90,
   "id": "colored-relay",
   "metadata": {},
   "outputs": [
    {
     "name": "stdout",
     "output_type": "stream",
     "text": [
      "{1, 2, 3, 4, 5, 6}\n"
     ]
    }
   ],
   "source": [
    "s3.add(4) # 1개 추가\n",
    "s3.update([5,6])# 여러개 추가\n",
    "print(s3)"
   ]
  },
  {
   "cell_type": "code",
   "execution_count": 91,
   "id": "accepted-channels",
   "metadata": {},
   "outputs": [
    {
     "name": "stdout",
     "output_type": "stream",
     "text": [
      "{1, 2, 3, 5, 6}\n"
     ]
    }
   ],
   "source": [
    "s3.remove(4)\n",
    "print(s3)"
   ]
  },
  {
   "cell_type": "code",
   "execution_count": null,
   "id": "choice-blocking",
   "metadata": {},
   "outputs": [],
   "source": []
  }
 ],
 "metadata": {
  "kernelspec": {
   "display_name": "Python 3",
   "language": "python",
   "name": "python3"
  },
  "language_info": {
   "codemirror_mode": {
    "name": "ipython",
    "version": 3
   },
   "file_extension": ".py",
   "mimetype": "text/x-python",
   "name": "python",
   "nbconvert_exporter": "python",
   "pygments_lexer": "ipython3",
   "version": "3.9.2"
  }
 },
 "nbformat": 4,
 "nbformat_minor": 5
}
