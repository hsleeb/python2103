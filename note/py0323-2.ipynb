{
 "cells": [
  {
   "cell_type": "code",
   "execution_count": 1,
   "id": "linear-possibility",
   "metadata": {},
   "outputs": [],
   "source": [
    "# class inherutance \n",
    "# class baseclass:\n",
    "#    # baseclass code\n",
    "\n",
    "# class subclase(baseclase):\n",
    "#    # subclass code\n"
   ]
  },
  {
   "cell_type": "code",
   "execution_count": 4,
   "id": "palestinian-arcade",
   "metadata": {},
   "outputs": [],
   "source": [
    "class Person :\n",
    "    def greeting(self):\n",
    "        print(\"안녕하세요\")\n",
    "        \n",
    "class Student(Person):\n",
    "    def study(self):\n",
    "        print(\"공부하기\")\n",
    "    \n",
    "    "
   ]
  },
  {
   "cell_type": "code",
   "execution_count": 5,
   "id": "handled-barrel",
   "metadata": {},
   "outputs": [
    {
     "name": "stdout",
     "output_type": "stream",
     "text": [
      "공부하기\n"
     ]
    }
   ],
   "source": [
    "hong = Student()\n",
    "hong.study()"
   ]
  },
  {
   "cell_type": "code",
   "execution_count": 7,
   "id": "touched-radical",
   "metadata": {},
   "outputs": [
    {
     "name": "stdout",
     "output_type": "stream",
     "text": [
      "안녕하세요\n"
     ]
    }
   ],
   "source": [
    "hong.greeting()"
   ]
  },
  {
   "cell_type": "code",
   "execution_count": 8,
   "id": "subjective-enemy",
   "metadata": {},
   "outputs": [
    {
     "data": {
      "text/plain": [
       "True"
      ]
     },
     "execution_count": 8,
     "metadata": {},
     "output_type": "execute_result"
    }
   ],
   "source": [
    "issubclass(Student,Person)  # 관계를 확인하는 방법"
   ]
  },
  {
   "cell_type": "code",
   "execution_count": 10,
   "id": "marine-needle",
   "metadata": {},
   "outputs": [
    {
     "data": {
      "text/plain": [
       "False"
      ]
     },
     "execution_count": 10,
     "metadata": {},
     "output_type": "execute_result"
    }
   ],
   "source": [
    "issubclass(Person, Student)"
   ]
  },
  {
   "cell_type": "code",
   "execution_count": 15,
   "id": "incomplete-judge",
   "metadata": {},
   "outputs": [],
   "source": [
    "#다각형을 가지고 예제\n",
    "class Polygon :\n",
    "    def __init__(self,noOfSides):\n",
    "        self.n = noOfSides\n",
    "        self.sides = [0 for i in range(noOfSides)]\n",
    "    def inputSide(self):\n",
    "        self.sides = [float(input(str(i+1) +\"번째 변의 길이\")) for i in range(self.n)]\n",
    "        \n",
    "    def dispSides(self):\n",
    "        for i in ranfe(self.n) :\n",
    "            print(i+1,\"번째 변 :\",self.side[i])\n",
    "    "
   ]
  },
  {
   "cell_type": "code",
   "execution_count": 23,
   "id": "progressive-minute",
   "metadata": {},
   "outputs": [],
   "source": [
    "class Triangle(Polygon):\n",
    "    def __init__(self):\n",
    "        Polygon.__init__(self, 3)\n",
    "        \n",
    "    def findArea(self):\n",
    "        a, b, c = self.sides\n",
    "        s = (a + b + c) / 2\n",
    "        area = (s*(s-a)*(s-b)*(s-c))**0.5\n",
    "        print(\"삼각형의 넓이 : %10.2f\"%area)"
   ]
  },
  {
   "cell_type": "code",
   "execution_count": 27,
   "id": "private-cherry",
   "metadata": {},
   "outputs": [
    {
     "name": "stdout",
     "output_type": "stream",
     "text": [
      "1번째 변의 길이3\n",
      "2번째 변의 길이4\n",
      "3번째 변의 길이5\n"
     ]
    }
   ],
   "source": [
    "t=Triangle()\n",
    "t.inputSide()"
   ]
  },
  {
   "cell_type": "code",
   "execution_count": 28,
   "id": "junior-madison",
   "metadata": {},
   "outputs": [
    {
     "name": "stdout",
     "output_type": "stream",
     "text": [
      "삼각형의 넓이 :       6.00\n"
     ]
    }
   ],
   "source": [
    "t.findArea()"
   ]
  },
  {
   "cell_type": "code",
   "execution_count": 30,
   "id": "exact-species",
   "metadata": {},
   "outputs": [],
   "source": [
    "class Person :\n",
    "    def __init__(self):\n",
    "        print(\"Person클래스의 생성자\")\n",
    "        self.hello = \"안녕하세요\"\n",
    "        \n",
    "class Student(Person):\n",
    "    def __init__(self):\n",
    "        print(\"Student클래스의 생성자\")\n",
    "        self.school = \"한국아이티\""
   ]
  },
  {
   "cell_type": "code",
   "execution_count": 31,
   "id": "assumed-modern",
   "metadata": {},
   "outputs": [
    {
     "name": "stdout",
     "output_type": "stream",
     "text": [
      "Student클래스의 생성자\n"
     ]
    }
   ],
   "source": [
    "hong = Student()"
   ]
  },
  {
   "cell_type": "code",
   "execution_count": 32,
   "id": "celtic-anchor",
   "metadata": {},
   "outputs": [],
   "source": [
    "class Person :\n",
    "    def __init__(self):\n",
    "        print(\"Person클래스의 생성자\")\n",
    "        self.hello = \"안녕하세요\"\n",
    "        \n",
    "class Student(Person):\n",
    "    def __init__(self):\n",
    "        super().__init__()   # *************************** Person._ _ 동일 개념\n",
    "        print(\"Student클래스의 생성자\")\n",
    "        self.school = \"한국아이티\""
   ]
  },
  {
   "cell_type": "code",
   "execution_count": 33,
   "id": "driven-amateur",
   "metadata": {},
   "outputs": [
    {
     "name": "stdout",
     "output_type": "stream",
     "text": [
      "Person클래스의 생성자\n",
      "Student클래스의 생성자\n"
     ]
    }
   ],
   "source": [
    "hong = Student()"
   ]
  },
  {
   "cell_type": "code",
   "execution_count": 36,
   "id": "thorough-explosion",
   "metadata": {},
   "outputs": [],
   "source": [
    "class Person :\n",
    "    def __init__(self):\n",
    "        print(\"Person클래스의 생성자\")\n",
    "        self.hello = \"안녕하세요\"\n",
    "        \n",
    "class Student(Person):\n",
    "    def showInfo():   #하위 클래스에서 그냥쓰면 자동으로 상위 클래스 것을 불러옮. 530 page 참조\n",
    "        pass"
   ]
  },
  {
   "cell_type": "code",
   "execution_count": 38,
   "id": "circular-fundamental",
   "metadata": {},
   "outputs": [
    {
     "name": "stdout",
     "output_type": "stream",
     "text": [
      "Person클래스의 생성자\n"
     ]
    }
   ],
   "source": [
    "hong = Student()"
   ]
  },
  {
   "cell_type": "code",
   "execution_count": 39,
   "id": "realistic-batch",
   "metadata": {},
   "outputs": [],
   "source": [
    "## 오버라이딩....\n",
    "\n",
    "class Person:\n",
    "    def greeting(self):\n",
    "        print(\"안녕하세요\")\n",
    "        \n",
    "class Student(Person) :\n",
    "    pass"
   ]
  },
  {
   "cell_type": "code",
   "execution_count": 40,
   "id": "fatty-titanium",
   "metadata": {},
   "outputs": [],
   "source": [
    "hong = Student()"
   ]
  },
  {
   "cell_type": "code",
   "execution_count": 41,
   "id": "rotary-colleague",
   "metadata": {},
   "outputs": [
    {
     "name": "stdout",
     "output_type": "stream",
     "text": [
      "안녕하세요\n"
     ]
    }
   ],
   "source": [
    "hong.greeting()"
   ]
  },
  {
   "cell_type": "code",
   "execution_count": 45,
   "id": "split-syria",
   "metadata": {},
   "outputs": [],
   "source": [
    "class Person:\n",
    "    def greeting(self):\n",
    "        print(\"안녕하세요\")\n",
    "        \n",
    "class Student(Person) :\n",
    "    def greeting(self):\n",
    "        print(\"건물을 세우고 싶어요\")"
   ]
  },
  {
   "cell_type": "code",
   "execution_count": 46,
   "id": "medical-implement",
   "metadata": {},
   "outputs": [],
   "source": [
    "hong = Student()"
   ]
  },
  {
   "cell_type": "code",
   "execution_count": 47,
   "id": "forward-absolute",
   "metadata": {},
   "outputs": [
    {
     "name": "stdout",
     "output_type": "stream",
     "text": [
      "건물을 세우고 싶어요\n"
     ]
    }
   ],
   "source": [
    "hong.greeting()  # 안녕하세요....print 않함."
   ]
  },
  {
   "cell_type": "code",
   "execution_count": 48,
   "id": "coordinate-thanksgiving",
   "metadata": {},
   "outputs": [],
   "source": [
    "class Person:\n",
    "    def greeting(self):\n",
    "        print(\"안녕하세요\")\n",
    "        \n",
    "class Student(Person) :\n",
    "    def greeting(self):\n",
    "        super().greeting()  # 추가하면 _ base를 불러오면\n",
    "        print(\"건물을 세우고 싶어요\")"
   ]
  },
  {
   "cell_type": "code",
   "execution_count": 49,
   "id": "recent-skating",
   "metadata": {},
   "outputs": [],
   "source": [
    "hong = Student()"
   ]
  },
  {
   "cell_type": "code",
   "execution_count": 50,
   "id": "suffering-honey",
   "metadata": {},
   "outputs": [
    {
     "name": "stdout",
     "output_type": "stream",
     "text": [
      "안녕하세요\n",
      "건물을 세우고 싶어요\n"
     ]
    }
   ],
   "source": [
    "hong.greeting()"
   ]
  },
  {
   "cell_type": "code",
   "execution_count": null,
   "id": "naked-basic",
   "metadata": {},
   "outputs": [],
   "source": [
    "#다중상속 사용하기"
   ]
  },
  {
   "cell_type": "code",
   "execution_count": 51,
   "id": "inside-quebec",
   "metadata": {},
   "outputs": [],
   "source": [
    "class Person:\n",
    "    def greeting(self):\n",
    "        print(\"안녕하세요\")\n",
    "        \n",
    "class University:\n",
    "    def manage_credit(self):\n",
    "        print(\"학점관리\")\n",
    "        \n",
    "class Undergraduate(Person, University):\n",
    "    def study(self):\n",
    "        print('공부하기')"
   ]
  },
  {
   "cell_type": "code",
   "execution_count": 52,
   "id": "employed-peninsula",
   "metadata": {},
   "outputs": [],
   "source": [
    "hong = Undergraduate()"
   ]
  },
  {
   "cell_type": "code",
   "execution_count": 54,
   "id": "personalized-terrorist",
   "metadata": {},
   "outputs": [
    {
     "name": "stdout",
     "output_type": "stream",
     "text": [
      "공부하기\n",
      "안녕하세요\n",
      "학점관리\n"
     ]
    }
   ],
   "source": [
    "hong.study()\n",
    "hong.greeting()\n",
    "hong.manage_credit()"
   ]
  },
  {
   "cell_type": "code",
   "execution_count": 55,
   "id": "reasonable-contamination",
   "metadata": {},
   "outputs": [],
   "source": [
    "#다이아몬드 상속"
   ]
  },
  {
   "cell_type": "code",
   "execution_count": 56,
   "id": "literary-square",
   "metadata": {},
   "outputs": [
    {
     "data": {
      "text/plain": [
       "[int, object]"
      ]
     },
     "execution_count": 56,
     "metadata": {},
     "output_type": "execute_result"
    }
   ],
   "source": [
    "int.mro()"
   ]
  },
  {
   "cell_type": "code",
   "execution_count": 59,
   "id": "objective-graphics",
   "metadata": {},
   "outputs": [],
   "source": [
    "from abc import *\n",
    "\n",
    "class StudentBase(metaclass=ABCMeta):\n",
    "    @abstractmethod\n",
    "    def study(self) :\n",
    "        pass"
   ]
  },
  {
   "cell_type": "code",
   "execution_count": 60,
   "id": "seventh-birth",
   "metadata": {},
   "outputs": [],
   "source": [
    "class Student(StudentBase):\n",
    "    def study(self):\n",
    "        print(\"Student가 공부하기\")"
   ]
  },
  {
   "cell_type": "code",
   "execution_count": 61,
   "id": "optional-mountain",
   "metadata": {},
   "outputs": [
    {
     "name": "stdout",
     "output_type": "stream",
     "text": [
      "Student가 공부하기\n"
     ]
    }
   ],
   "source": [
    "hong = Student()\n",
    "hong.study()"
   ]
  },
  {
   "cell_type": "code",
   "execution_count": 62,
   "id": "certified-radius",
   "metadata": {},
   "outputs": [],
   "source": [
    "from abc import *\n",
    "\n",
    "class StudentBase(metaclass=ABCMeta):\n",
    "    @abstractmethod\n",
    "    def study(self) :\n",
    "        pass\n",
    "    \n",
    "    @abstractmethod\n",
    "    def gotoschool(self):   # 문제 발생됨\n",
    "        pass\n"
   ]
  },
  {
   "cell_type": "code",
   "execution_count": 63,
   "id": "naughty-isaac",
   "metadata": {},
   "outputs": [],
   "source": [
    "class Student(StudentBase):\n",
    "    def study(self):\n",
    "        print(\"Student가 공부하기\")"
   ]
  },
  {
   "cell_type": "code",
   "execution_count": 64,
   "id": "municipal-coaching",
   "metadata": {},
   "outputs": [
    {
     "ename": "TypeError",
     "evalue": "Can't instantiate abstract class Student with abstract method gotoschool",
     "output_type": "error",
     "traceback": [
      "\u001b[1;31m---------------------------------------------------------------------------\u001b[0m",
      "\u001b[1;31mTypeError\u001b[0m                                 Traceback (most recent call last)",
      "\u001b[1;32m<ipython-input-64-caa027433197>\u001b[0m in \u001b[0;36m<module>\u001b[1;34m\u001b[0m\n\u001b[1;32m----> 1\u001b[1;33m \u001b[0mhong\u001b[0m \u001b[1;33m=\u001b[0m \u001b[0mStudent\u001b[0m\u001b[1;33m(\u001b[0m\u001b[1;33m)\u001b[0m\u001b[1;33m\u001b[0m\u001b[1;33m\u001b[0m\u001b[0m\n\u001b[0m\u001b[0;32m      2\u001b[0m \u001b[0mhong\u001b[0m\u001b[1;33m.\u001b[0m\u001b[0mstudy\u001b[0m\u001b[1;33m(\u001b[0m\u001b[1;33m)\u001b[0m\u001b[1;33m\u001b[0m\u001b[1;33m\u001b[0m\u001b[0m\n",
      "\u001b[1;31mTypeError\u001b[0m: Can't instantiate abstract class Student with abstract method gotoschool"
     ]
    }
   ],
   "source": [
    "hong = Student()\n",
    "hong.study()"
   ]
  },
  {
   "cell_type": "code",
   "execution_count": 65,
   "id": "advanced-commonwealth",
   "metadata": {},
   "outputs": [],
   "source": [
    "from abc import *\n",
    "\n",
    "class StudentBase(metaclass=ABCMeta):\n",
    "    @abstractmethod\n",
    "    def study(self) :\n",
    "        pass\n",
    "    \n",
    "    @abstractmethod\n",
    "    def gotoschool(self):   \n",
    "        pass\n"
   ]
  },
  {
   "cell_type": "code",
   "execution_count": 66,
   "id": "mighty-position",
   "metadata": {},
   "outputs": [],
   "source": [
    "class Student(StudentBase):\n",
    "    def study(self):\n",
    "        print(\"Student가 공부하기\")\n",
    "        \n",
    "    def gotoschool(self):\n",
    "        print(\"학교가기\")"
   ]
  },
  {
   "cell_type": "code",
   "execution_count": 67,
   "id": "voluntary-radical",
   "metadata": {},
   "outputs": [
    {
     "name": "stdout",
     "output_type": "stream",
     "text": [
      "Student가 공부하기\n"
     ]
    }
   ],
   "source": [
    "hong = Student()\n",
    "hong.study()"
   ]
  },
  {
   "cell_type": "code",
   "execution_count": 68,
   "id": "adolescent-hometown",
   "metadata": {},
   "outputs": [],
   "source": [
    "from abc import *\n",
    "\n",
    "class StudentBase(metaclass=ABCMeta):\n",
    "    @abstractmethod\n",
    "    def study(self) :\n",
    "        pass\n",
    "    \n",
    "    @abstractmethod\n",
    "    def gotoschool(self):   \n",
    "        pass\n"
   ]
  },
  {
   "cell_type": "code",
   "execution_count": 69,
   "id": "electrical-summer",
   "metadata": {},
   "outputs": [],
   "source": [
    "hong = Student()"
   ]
  },
  {
   "cell_type": "code",
   "execution_count": null,
   "id": "individual-forge",
   "metadata": {},
   "outputs": [],
   "source": [
    "class ElementaryStudent(self):\n",
    "    def gotoschool(self):\n",
    "        "
   ]
  }
 ],
 "metadata": {
  "kernelspec": {
   "display_name": "Python 3",
   "language": "python",
   "name": "python3"
  },
  "language_info": {
   "codemirror_mode": {
    "name": "ipython",
    "version": 3
   },
   "file_extension": ".py",
   "mimetype": "text/x-python",
   "name": "python",
   "nbconvert_exporter": "python",
   "pygments_lexer": "ipython3",
   "version": "3.9.2"
  }
 },
 "nbformat": 4,
 "nbformat_minor": 5
}
